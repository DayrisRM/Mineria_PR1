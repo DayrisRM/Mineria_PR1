{
  "nbformat": 4,
  "nbformat_minor": 0,
  "metadata": {
    "colab": {
      "name": "Statistical tests.ipynb",
      "provenance": [],
      "authorship_tag": "ABX9TyOtl6peNWvrknVbvSsY4TIK"
    },
    "kernelspec": {
      "name": "python3",
      "display_name": "Python 3"
    },
    "language_info": {
      "name": "python"
    }
  },
  "cells": [
    {
      "cell_type": "code",
      "source": [
        "from sklearn.datasets import load_iris\n",
        "from sklearn.model_selection import train_test_split\n",
        "import numpy as np"
      ],
      "metadata": {
        "id": "_kiV3XITcnkw"
      },
      "execution_count": 3,
      "outputs": []
    },
    {
      "cell_type": "markdown",
      "source": [
        "***Data section***\n",
        "\n",
        "---\n",
        "\n"
      ],
      "metadata": {
        "id": "0vtoWWWbn0i0"
      }
    },
    {
      "cell_type": "code",
      "source": [
        "iris = load_iris()\n",
        "data, labels = iris.data, iris.target"
      ],
      "metadata": {
        "id": "yg5cMjAHcxWx"
      },
      "execution_count": 2,
      "outputs": []
    },
    {
      "cell_type": "code",
      "source": [
        "labels"
      ],
      "metadata": {
        "id": "qE_0thHCdE3D",
        "outputId": "47102de6-0f10-4a1a-9d0c-54c6981a9554",
        "colab": {
          "base_uri": "https://localhost:8080/"
        }
      },
      "execution_count": 5,
      "outputs": [
        {
          "output_type": "execute_result",
          "data": {
            "text/plain": [
              "array([0, 0, 0, 0, 0, 0, 0, 0, 0, 0, 0, 0, 0, 0, 0, 0, 0, 0, 0, 0, 0, 0,\n",
              "       0, 0, 0, 0, 0, 0, 0, 0, 0, 0, 0, 0, 0, 0, 0, 0, 0, 0, 0, 0, 0, 0,\n",
              "       0, 0, 0, 0, 0, 0, 1, 1, 1, 1, 1, 1, 1, 1, 1, 1, 1, 1, 1, 1, 1, 1,\n",
              "       1, 1, 1, 1, 1, 1, 1, 1, 1, 1, 1, 1, 1, 1, 1, 1, 1, 1, 1, 1, 1, 1,\n",
              "       1, 1, 1, 1, 1, 1, 1, 1, 1, 1, 1, 1, 2, 2, 2, 2, 2, 2, 2, 2, 2, 2,\n",
              "       2, 2, 2, 2, 2, 2, 2, 2, 2, 2, 2, 2, 2, 2, 2, 2, 2, 2, 2, 2, 2, 2,\n",
              "       2, 2, 2, 2, 2, 2, 2, 2, 2, 2, 2, 2, 2, 2, 2, 2, 2, 2])"
            ]
          },
          "metadata": {},
          "execution_count": 5
        }
      ]
    },
    {
      "cell_type": "code",
      "source": [
        "train_data, test_data, train_labels, test_labels = train_test_split(data, labels, \n",
        "                       train_size=0.8,\n",
        "                       test_size=0.2,\n",
        "                       random_state=42,\n",
        "                       stratify=labels)"
      ],
      "metadata": {
        "id": "5GcGRuQsdLQr"
      },
      "execution_count": 10,
      "outputs": []
    },
    {
      "cell_type": "code",
      "source": [
        "print('All:', np.bincount(labels) / float(len(labels)) * 100.0)\n",
        "print('Training:', np.bincount(train_labels) / float(len(train_labels)) * 100.0)\n",
        "print('Test:', np.bincount(test_labels) / float(len(test_labels)) * 100.0)"
      ],
      "metadata": {
        "id": "tlgsvn0Pc3mx",
        "outputId": "a38c8b4c-03bf-432f-99c3-e2150f3e1cea",
        "colab": {
          "base_uri": "https://localhost:8080/"
        }
      },
      "execution_count": 11,
      "outputs": [
        {
          "output_type": "stream",
          "name": "stdout",
          "text": [
            "All: [33.33333333 33.33333333 33.33333333]\n",
            "Training: [33.33333333 33.33333333 33.33333333]\n",
            "Test: [33.33333333 33.33333333 33.33333333]\n"
          ]
        }
      ]
    },
    {
      "cell_type": "markdown",
      "source": [
        "***Classifiers***\n",
        "\n",
        "---\n",
        "\n"
      ],
      "metadata": {
        "id": "I80TElt2n6bk"
      }
    },
    {
      "cell_type": "code",
      "source": [
        "from sklearn.svm import LinearSVC\n",
        "from sklearn.neighbors import KNeighborsClassifier \n",
        "from sklearn.metrics import confusion_matrix\n",
        "from sklearn.metrics import classification_report\n",
        "import matplotlib.pyplot as plt\n",
        "import seaborn as sns"
      ],
      "metadata": {
        "id": "7LczUS2enyx8"
      },
      "execution_count": 30,
      "outputs": []
    },
    {
      "cell_type": "code",
      "source": [
        "#Linear SVC\n",
        "model1 = LinearSVC()\n",
        "\n",
        "score1 = model1.fit(train_data, train_labels).score(test_data, test_labels)\n",
        "y_model1= model1.fit(train_data, train_labels).predict(test_data)\n",
        "\n",
        "\n",
        "print('LinearSVC accuracy: %.2f%%' % (score1*100))\n",
        "\n",
        "\n",
        "#Linear SVC confusion matrix\n",
        "print('------------------------------')\n",
        "print('Linear SVC confusion matrix')\n",
        "model1ConfusionMatrix = confusion_matrix(test_labels, y_model1)\n",
        "plt.figure(figsize = (10,8))\n",
        "sns.heatmap(model1ConfusionMatrix, linewidths = 0.1, cmap = 'Blues', linecolor = 'gray', fmt = '.1f', annot = True)\n",
        "plt.xlabel('Predicted classes', fontsize = 20)\n",
        "plt.ylabel('True classes', fontsize = 20)\n",
        "print(model1ConfusionMatrix)"
      ],
      "metadata": {
        "id": "0wqj31M4oFnm",
        "outputId": "e9e1adaa-a281-4073-a8a4-f0cb2ccdcb6f",
        "colab": {
          "base_uri": "https://localhost:8080/",
          "height": 684
        }
      },
      "execution_count": 37,
      "outputs": [
        {
          "output_type": "stream",
          "name": "stderr",
          "text": [
            "/usr/local/lib/python3.8/dist-packages/sklearn/svm/_base.py:1206: ConvergenceWarning: Liblinear failed to converge, increase the number of iterations.\n",
            "  warnings.warn(\n",
            "/usr/local/lib/python3.8/dist-packages/sklearn/svm/_base.py:1206: ConvergenceWarning: Liblinear failed to converge, increase the number of iterations.\n",
            "  warnings.warn(\n"
          ]
        },
        {
          "output_type": "stream",
          "name": "stdout",
          "text": [
            "LinearSVC accuracy: 96.67%\n",
            "------------------------------\n",
            "Linear SVC confusion matrix\n",
            "[[10  0  0]\n",
            " [ 0  9  1]\n",
            " [ 0  0 10]]\n"
          ]
        },
        {
          "output_type": "display_data",
          "data": {
            "text/plain": [
              "<Figure size 720x576 with 2 Axes>"
            ],
            "image/png": "[encoded data removed]"
          },
          "metadata": {
            "needs_background": "light"
          }
        }
      ]
    },
    {
      "cell_type": "code",
      "source": [
        "#KNN\n",
        "print('----------------KNeighborsClassifier--------------')\n",
        "model2 = KNeighborsClassifier(n_neighbors=10)\n",
        "\n",
        "score2 = model2.fit(train_data, train_labels).score(test_data, test_labels)\n",
        "y_model2= model2.fit(train_data, train_labels).predict(test_data)\n",
        "\n",
        "print('KNeighborsClassifier accuracy: %.2f%%' % (score2.mean()*100))\n",
        "\n",
        "#KNN confusion matrix\n",
        "print('------------------------------')\n",
        "print('KNN confusion matrix')\n",
        "model2ConfusionMatrix = confusion_matrix(test_labels, y_model2)\n",
        "plt.figure(figsize = (10,8))\n",
        "sns.heatmap(model2ConfusionMatrix, linewidths = 0.1, cmap = 'Blues', linecolor = 'gray', fmt = '.1f', annot = True)\n",
        "plt.xlabel('Predicted classes', fontsize = 20)\n",
        "plt.ylabel('True classes', fontsize = 20)\n",
        "print(model2ConfusionMatrix)\n"
      ],
      "metadata": {
        "id": "sqraY3Pyq5GZ",
        "outputId": "f8fd89db-1b5b-46f3-abd5-b5febfe904d6",
        "colab": {
          "base_uri": "https://localhost:8080/",
          "height": 631
        }
      },
      "execution_count": 38,
      "outputs": [
        {
          "output_type": "stream",
          "name": "stdout",
          "text": [
            "----------------KNeighborsClassifier--------------\n",
            "KNeighborsClassifier accuracy: 100.00%\n",
            "------------------------------\n",
            "KNN confusion matrix\n",
            "[[10  0  0]\n",
            " [ 0 10  0]\n",
            " [ 0  0 10]]\n"
          ]
        },
        {
          "output_type": "display_data",
          "data": {
            "text/plain": [
              "<Figure size 720x576 with 2 Axes>"
            ],
            "image/png": "[encoded data removed]"
          },
          "metadata": {
            "needs_background": "light"
          }
        }
      ]
    },
    {
      "cell_type": "markdown",
      "source": [
        " 5x2cv paired t test \n",
        "\n",
        "---\n",
        "\n"
      ],
      "metadata": {
        "id": "IDx2cS8X48jC"
      }
    },
    {
      "cell_type": "markdown",
      "source": [
        "------------------> **5x2cv paired t test** <------------------"
      ],
      "metadata": {
        "id": "HE38RplfXb8G"
      }
    },
    {
      "cell_type": "code",
      "source": [
        "from mlxtend.evaluate import paired_ttest_5x2cv\n",
        "from mlxtend.data import iris_data\n",
        "\n",
        "#Statistical test\n",
        "t, p = paired_ttest_5x2cv(estimator1=model1, estimator2=model2, X=data, y=labels, scoring='accuracy', random_seed=1)\n",
        "\n",
        "print('t statistic: %.3f' % t)\n",
        "print('p value: %.3f' % p)"
      ],
      "metadata": {
        "id": "yNDQrj695DgZ",
        "outputId": "8e2c3cc9-a5d1-444d-a059-f61ab2fd72ee",
        "colab": {
          "base_uri": "https://localhost:8080/"
        }
      },
      "execution_count": 43,
      "outputs": [
        {
          "output_type": "stream",
          "name": "stdout",
          "text": [
            "t statistic: 0.392\n",
            "p value: 0.711\n"
          ]
        },
        {
          "output_type": "stream",
          "name": "stderr",
          "text": [
            "/usr/local/lib/python3.8/dist-packages/sklearn/svm/_base.py:1206: ConvergenceWarning: Liblinear failed to converge, increase the number of iterations.\n",
            "  warnings.warn(\n",
            "/usr/local/lib/python3.8/dist-packages/sklearn/svm/_base.py:1206: ConvergenceWarning: Liblinear failed to converge, increase the number of iterations.\n",
            "  warnings.warn(\n",
            "/usr/local/lib/python3.8/dist-packages/sklearn/svm/_base.py:1206: ConvergenceWarning: Liblinear failed to converge, increase the number of iterations.\n",
            "  warnings.warn(\n",
            "/usr/local/lib/python3.8/dist-packages/sklearn/svm/_base.py:1206: ConvergenceWarning: Liblinear failed to converge, increase the number of iterations.\n",
            "  warnings.warn(\n",
            "/usr/local/lib/python3.8/dist-packages/sklearn/svm/_base.py:1206: ConvergenceWarning: Liblinear failed to converge, increase the number of iterations.\n",
            "  warnings.warn(\n",
            "/usr/local/lib/python3.8/dist-packages/sklearn/svm/_base.py:1206: ConvergenceWarning: Liblinear failed to converge, increase the number of iterations.\n",
            "  warnings.warn(\n",
            "/usr/local/lib/python3.8/dist-packages/sklearn/svm/_base.py:1206: ConvergenceWarning: Liblinear failed to converge, increase the number of iterations.\n",
            "  warnings.warn(\n",
            "/usr/local/lib/python3.8/dist-packages/sklearn/svm/_base.py:1206: ConvergenceWarning: Liblinear failed to converge, increase the number of iterations.\n",
            "  warnings.warn(\n",
            "/usr/local/lib/python3.8/dist-packages/sklearn/svm/_base.py:1206: ConvergenceWarning: Liblinear failed to converge, increase the number of iterations.\n",
            "  warnings.warn(\n",
            "/usr/local/lib/python3.8/dist-packages/sklearn/svm/_base.py:1206: ConvergenceWarning: Liblinear failed to converge, increase the number of iterations.\n",
            "  warnings.warn(\n"
          ]
        }
      ]
    },
    {
      "cell_type": "markdown",
      "source": [
        "***McNemar test***\n",
        "\n",
        "---\n",
        "\n"
      ],
      "metadata": {
        "id": "T8EToBuv6gXE"
      }
    },
    {
      "cell_type": "code",
      "source": [
        "from mlxtend.evaluate import mcnemar_table\n",
        "from mlxtend.evaluate import mcnemar"
      ],
      "metadata": {
        "id": "GMm9FYQ87DOi"
      },
      "execution_count": 45,
      "outputs": []
    },
    {
      "cell_type": "code",
      "source": [
        "#McNemar test\n",
        "print('----------------McNemar test--------------')\n",
        "# Tabla de McNemar\n",
        "tb = mcnemar_table(y_target=test_labels, \n",
        "                   y_model1=y_model1, \n",
        "                   y_model2=y_model2)\n",
        "\n",
        "print(tb)\n",
        "\n",
        "# Cálculo de valor de Xi\n",
        "chi2, p = mcnemar(ary=tb, exact=True, corrected=True)\n",
        "print('chi-squared:', chi2)\n",
        "print('p-value:', p)"
      ],
      "metadata": {
        "id": "6HYaIi8h6iqm",
        "outputId": "9cb12d3e-0473-4d41-f9e8-4951a1024abb",
        "colab": {
          "base_uri": "https://localhost:8080/"
        }
      },
      "execution_count": 47,
      "outputs": [
        {
          "output_type": "stream",
          "name": "stdout",
          "text": [
            "----------------McNemar test--------------\n",
            "[[29  1]\n",
            " [ 0  0]]\n",
            "chi-squared: 0\n",
            "p-value: 1.0\n"
          ]
        }
      ]
    }
  ]
}