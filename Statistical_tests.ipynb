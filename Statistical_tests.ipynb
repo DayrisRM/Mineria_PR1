{
  "nbformat": 4,
  "nbformat_minor": 0,
  "metadata": {
    "colab": {
      "name": "Statistical tests.ipynb",
      "provenance": [],
      "authorship_tag": "ABX9TyPgUKMbZHgm4fgyoraN7LAT"
    },
    "kernelspec": {
      "name": "python3",
      "display_name": "Python 3"
    },
    "language_info": {
      "name": "python"
    }
  },
  "cells": [
    {
      "cell_type": "markdown",
      "source": [
        "------------------> **5x2cv paired t test** <------------------"
      ],
      "metadata": {
        "id": "HE38RplfXb8G"
      }
    },
    {
      "cell_type": "code",
      "execution_count": 1,
      "metadata": {
        "colab": {
          "base_uri": "https://localhost:8080/"
        },
        "id": "lR7hQJnSXJnt",
        "outputId": "a692b269-9a4c-4931-ee2d-d57478233908"
      },
      "outputs": [
        {
          "output_type": "stream",
          "name": "stdout",
          "text": [
            "LinearSVC accuracy: 92.11%\n",
            "KNeighborsClassifier accuracy: 97.37%\n",
            "t statistic: 0.000\n",
            "p value: 1.000\n"
          ]
        },
        {
          "output_type": "stream",
          "name": "stderr",
          "text": [
            "/usr/local/lib/python3.7/dist-packages/sklearn/svm/_base.py:1208: ConvergenceWarning: Liblinear failed to converge, increase the number of iterations.\n",
            "  ConvergenceWarning,\n",
            "/usr/local/lib/python3.7/dist-packages/sklearn/svm/_base.py:1208: ConvergenceWarning: Liblinear failed to converge, increase the number of iterations.\n",
            "  ConvergenceWarning,\n",
            "/usr/local/lib/python3.7/dist-packages/sklearn/svm/_base.py:1208: ConvergenceWarning: Liblinear failed to converge, increase the number of iterations.\n",
            "  ConvergenceWarning,\n",
            "/usr/local/lib/python3.7/dist-packages/sklearn/svm/_base.py:1208: ConvergenceWarning: Liblinear failed to converge, increase the number of iterations.\n",
            "  ConvergenceWarning,\n",
            "/usr/local/lib/python3.7/dist-packages/sklearn/svm/_base.py:1208: ConvergenceWarning: Liblinear failed to converge, increase the number of iterations.\n",
            "  ConvergenceWarning,\n",
            "/usr/local/lib/python3.7/dist-packages/sklearn/svm/_base.py:1208: ConvergenceWarning: Liblinear failed to converge, increase the number of iterations.\n",
            "  ConvergenceWarning,\n",
            "/usr/local/lib/python3.7/dist-packages/sklearn/svm/_base.py:1208: ConvergenceWarning: Liblinear failed to converge, increase the number of iterations.\n",
            "  ConvergenceWarning,\n",
            "/usr/local/lib/python3.7/dist-packages/sklearn/svm/_base.py:1208: ConvergenceWarning: Liblinear failed to converge, increase the number of iterations.\n",
            "  ConvergenceWarning,\n",
            "/usr/local/lib/python3.7/dist-packages/sklearn/svm/_base.py:1208: ConvergenceWarning: Liblinear failed to converge, increase the number of iterations.\n",
            "  ConvergenceWarning,\n",
            "/usr/local/lib/python3.7/dist-packages/sklearn/svm/_base.py:1208: ConvergenceWarning: Liblinear failed to converge, increase the number of iterations.\n",
            "  ConvergenceWarning,\n",
            "/usr/local/lib/python3.7/dist-packages/sklearn/svm/_base.py:1208: ConvergenceWarning: Liblinear failed to converge, increase the number of iterations.\n",
            "  ConvergenceWarning,\n"
          ]
        }
      ],
      "source": [
        "from sklearn.svm import LinearSVC\n",
        "from sklearn.neighbors import KNeighborsClassifier \n",
        "from mlxtend.data import iris_data\n",
        "from sklearn.model_selection import train_test_split\n",
        "from mlxtend.evaluate import paired_ttest_5x2cv\n",
        "\n",
        "#Data\n",
        "X, y = iris_data()\n",
        "X_train, X_test, y_train, y_test = train_test_split(X, y, test_size=0.25, random_state=4)\n",
        "\n",
        "#Models\n",
        "model1 = LinearSVC(random_state=0, tol=1e-05)\n",
        "model2 = KNeighborsClassifier(n_neighbors=5)\n",
        "\n",
        "\n",
        "#Fit\n",
        "score1 = model1.fit(X_train, y_train).score(X_test, y_test)\n",
        "score2 = model2.fit(X_train, y_train).score(X_test, y_test)\n",
        "\n",
        "print('LinearSVC accuracy: %.2f%%' % (score1*100))\n",
        "print('KNeighborsClassifier accuracy: %.2f%%' % (score2*100))\n",
        "\n",
        "\n",
        "#Statistical test\n",
        "t, p = paired_ttest_5x2cv(estimator1=model1, estimator2=model2, X=X, y=y, scoring='accuracy', random_seed=1)\n",
        "\n",
        "print('t statistic: %.3f' % t)\n",
        "print('p value: %.3f' % p)"
      ]
    },
    {
      "cell_type": "markdown",
      "source": [
        "------------------> McNemar test <------------------"
      ],
      "metadata": {
        "id": "N5GZCxSvYDit"
      }
    },
    {
      "cell_type": "code",
      "source": [
        "from sklearn.svm import LinearSVC\n",
        "from sklearn.neighbors import KNeighborsClassifier \n",
        "from mlxtend.data import iris_data\n",
        "from sklearn.model_selection import train_test_split\n",
        "from sklearn.metrics import confusion_matrix\n",
        "from sklearn.metrics import classification_report\n",
        "import seaborn as sns\n",
        "import matplotlib.pyplot as plt\n",
        "import numpy as np\n",
        "from mlxtend.evaluate import mcnemar_table\n",
        "from mlxtend.evaluate import mcnemar\n",
        "\n",
        "#Data\n",
        "X, y = iris_data()\n",
        "X_train, X_test, y_train, y_test = train_test_split(X, y, test_size=0.25, random_state=4)\n",
        "y_target = y_test\n",
        "\n",
        "\n",
        "#Linear SVC\n",
        "print('----------------LinearSVC Classifier--------------')\n",
        "model1 = LinearSVC(random_state=0, tol=1e-05)\n",
        "score1 = model1.fit(X_train, y_train).score(X_test, y_test)\n",
        "y_model1= model1.fit(X_train, y_train).predict(X_test)\n",
        "print('LinearSVC accuracy: %.2f%%' % (score1*100))\n",
        "\n",
        "\n",
        "#KNN\n",
        "print('----------------KNeighborsClassifier--------------')\n",
        "model2 = KNeighborsClassifier(n_neighbors=5)\n",
        "score2 = model2.fit(X_train, y_train).score(X_test, y_test)\n",
        "y_model2= model2.fit(X_train, y_train).predict(X_test)\n",
        "print('KNeighborsClassifier accuracy: %.2f%%' % (score2.mean()*100))\n",
        "\n",
        "\n",
        "\n",
        "#McNemar test\n",
        "print('----------------McNemar test--------------')\n",
        "# Tabla de McNemar\n",
        "tb = mcnemar_table(y_target=y_target, \n",
        "                   y_model1=y_model1, \n",
        "                   y_model2=y_model2)\n",
        "\n",
        "print(tb)\n",
        "\n",
        "# Cálculo de valor de Xi\n",
        "chi2, p = mcnemar(ary=tb, exact=True, corrected=True)\n",
        "print('chi-squared:', chi2)\n",
        "print('p-value:', p)\n",
        "\n",
        "\n",
        "#Linear SVC confusion matrix\n",
        "print('------------------------------')\n",
        "print('Linear SVC confusion matrix')\n",
        "model1ConfusionMatrix = confusion_matrix(y_test, y_model1)\n",
        "plt.figure(figsize = (10,8))\n",
        "sns.heatmap(model1ConfusionMatrix, linewidths = 0.1, cmap = 'Blues', linecolor = 'gray', fmt = '.1f', annot = True)\n",
        "plt.xlabel('Predicted classes', fontsize = 20)\n",
        "plt.ylabel('True classes', fontsize = 20)\n",
        "print(model1ConfusionMatrix)\n",
        "\n",
        "\n",
        "#KNN confusion matrix\n",
        "print('------------------------------')\n",
        "print('KNN confusion matrix')\n",
        "model2ConfusionMatrix = confusion_matrix(y_test, y_model2)\n",
        "plt.figure(figsize = (10,8))\n",
        "sns.heatmap(model2ConfusionMatrix, linewidths = 0.1, cmap = 'Blues', linecolor = 'gray', fmt = '.1f', annot = True)\n",
        "plt.xlabel('Predicted classes', fontsize = 20)\n",
        "plt.ylabel('True classes', fontsize = 20)\n",
        "print(model2ConfusionMatrix)\n"
      ],
      "metadata": {
        "colab": {
          "base_uri": "https://localhost:8080/",
          "height": 1000
        },
        "id": "CpMnW1BpYGZy",
        "outputId": "b0a23f58-a32f-4b9b-9eab-2653916c40e0"
      },
      "execution_count": 4,
      "outputs": [
        {
          "output_type": "stream",
          "name": "stdout",
          "text": [
            "----------------LinearSVC Classifier--------------\n",
            "LinearSVC accuracy: 92.11%\n",
            "----------------KNeighborsClassifier--------------\n",
            "KNeighborsClassifier accuracy: 97.37%\n",
            "----------------McNemar test--------------\n",
            "[[35  2]\n",
            " [ 0  1]]\n",
            "chi-squared: 0\n",
            "p-value: 0.5\n",
            "------------------------------\n",
            "Linear SVC confusion matrix\n",
            "[[18  0  0]\n",
            " [ 0  6  2]\n",
            " [ 0  1 11]]\n",
            "------------------------------\n",
            "KNN confusion matrix\n"
          ]
        },
        {
          "output_type": "stream",
          "name": "stderr",
          "text": [
            "/usr/local/lib/python3.7/dist-packages/sklearn/svm/_base.py:1208: ConvergenceWarning: Liblinear failed to converge, increase the number of iterations.\n",
            "  ConvergenceWarning,\n",
            "/usr/local/lib/python3.7/dist-packages/sklearn/svm/_base.py:1208: ConvergenceWarning: Liblinear failed to converge, increase the number of iterations.\n",
            "  ConvergenceWarning,\n"
          ]
        },
        {
          "output_type": "stream",
          "name": "stdout",
          "text": [
            "[[18  0  0]\n",
            " [ 0  7  1]\n",
            " [ 0  0 12]]\n"
          ]
        },
        {
          "output_type": "display_data",
          "data": {
            "text/plain": [
              "<Figure size 720x576 with 2 Axes>"
            ],
            "image/png": "[encoded data removed]"
          },
          "metadata": {
            "needs_background": "light"
          }
        },
        {
          "output_type": "display_data",
          "data": {
            "text/plain": [
              "<Figure size 720x576 with 2 Axes>"
            ],
            "image/png": "[encoded data removed]"
          },
          "metadata": {
            "needs_background": "light"
          }
        }
      ]
    }
  ]
}